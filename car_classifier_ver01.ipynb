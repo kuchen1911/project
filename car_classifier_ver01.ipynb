{
 "cells": [
  {
   "cell_type": "code",
   "execution_count": 2,
   "metadata": {},
   "outputs": [],
   "source": [
    "import numpy as np\n",
    "\n",
    "from torch.utils.data import DataLoader, Dataset\n",
    "import torch\n",
    "from torcheval.metrics import MulticlassAUPRC\n",
    "from torchmetrics import Accuracy\n",
    "from torch import nn\n",
    "import lightning as L\n",
    "\n",
    "from matplotlib import pyplot as plt\n",
    "\n",
    "import cv2\n",
    "import os\n",
    "\n",
    "from torchvision.transforms import v2\n",
    "import torchvision\n",
    "from torchvision.models import resnet50\n",
    "from torchvision.models import efficientnet_v2_s"
   ]
  },
  {
   "cell_type": "code",
   "execution_count": 6,
   "metadata": {},
   "outputs": [],
   "source": [
    "with open(\"imagenet1000_clsidx_to_labels.txt\") as f:\n",
    "    idx2label = eval(f.read())"
   ]
  },
  {
   "cell_type": "code",
   "execution_count": 8,
   "metadata": {},
   "outputs": [],
   "source": [
    "device = torch.device('mps:0')\n",
    "model = efficientnet_v2_s(weights='DEFAULT').to(device)"
   ]
  },
  {
   "cell_type": "code",
   "execution_count": null,
   "metadata": {},
   "outputs": [],
   "source": []
  }
 ],
 "metadata": {
  "kernelspec": {
   "display_name": "cars",
   "language": "python",
   "name": "python3"
  },
  "language_info": {
   "codemirror_mode": {
    "name": "ipython",
    "version": 3
   },
   "file_extension": ".py",
   "mimetype": "text/x-python",
   "name": "python",
   "nbconvert_exporter": "python",
   "pygments_lexer": "ipython3",
   "version": "3.11.7"
  }
 },
 "nbformat": 4,
 "nbformat_minor": 2
}
